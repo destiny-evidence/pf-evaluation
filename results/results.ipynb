{
 "cells": [
  {
   "cell_type": "code",
   "execution_count": 1,
   "id": "8e55326a",
   "metadata": {},
   "outputs": [],
   "source": [
    "import pandas as pd\n",
    "import numpy as np\n",
    "import sqlite3\n",
    "import json\n",
    "from pathlib import Path"
   ]
  },
  {
   "cell_type": "markdown",
   "id": "30311ddd",
   "metadata": {},
   "source": [
    "## Define tags you want to filter by"
   ]
  },
  {
   "cell_type": "code",
   "execution_count": 44,
   "id": "686c0598",
   "metadata": {},
   "outputs": [],
   "source": [
    "tag_filters = {\n",
    "    'task': 'classification'\n",
    "}"
   ]
  },
  {
   "cell_type": "markdown",
   "id": "2033f77a",
   "metadata": {},
   "source": [
    "## Set path to pf database"
   ]
  },
  {
   "cell_type": "code",
   "execution_count": 45,
   "id": "4072fe5b",
   "metadata": {},
   "outputs": [],
   "source": [
    "# Set path to promptflow database\n",
    "con = sqlite3.connect('/home/maxca/.promptflow/pf.sqlite')\n",
    "con.row_factory = sqlite3.Row\n"
   ]
  },
  {
   "cell_type": "markdown",
   "id": "8fd37d45",
   "metadata": {},
   "source": [
    "## Filter runs and extract metrics"
   ]
  },
  {
   "cell_type": "code",
   "execution_count": 46,
   "id": "ca8c49ad",
   "metadata": {},
   "outputs": [
    {
     "data": {
      "text/html": [
       "<div>\n",
       "<style scoped>\n",
       "    .dataframe tbody tr th:only-of-type {\n",
       "        vertical-align: middle;\n",
       "    }\n",
       "\n",
       "    .dataframe tbody tr th {\n",
       "        vertical-align: top;\n",
       "    }\n",
       "\n",
       "    .dataframe thead th {\n",
       "        text-align: right;\n",
       "    }\n",
       "</style>\n",
       "<table border=\"1\" class=\"dataframe\">\n",
       "  <thead>\n",
       "    <tr style=\"text-align: right;\">\n",
       "      <th></th>\n",
       "      <th>f1_score</th>\n",
       "      <th>precision_score</th>\n",
       "      <th>recall_score</th>\n",
       "      <th>display_name</th>\n",
       "      <th>start_time</th>\n",
       "      <th>description</th>\n",
       "      <th>task</th>\n",
       "      <th>labels</th>\n",
       "      <th>dataset</th>\n",
       "    </tr>\n",
       "  </thead>\n",
       "  <tbody>\n",
       "    <tr>\n",
       "      <th>0</th>\n",
       "      <td>1.0</td>\n",
       "      <td>1.0</td>\n",
       "      <td>1.0</td>\n",
       "      <td>classify_binary_variant_0_20250826_122620_824384</td>\n",
       "      <td>2025-08-26T12:26:21.817715+02:00</td>\n",
       "      <td>None</td>\n",
       "      <td>classification</td>\n",
       "      <td>binary</td>\n",
       "      <td>NaN</td>\n",
       "    </tr>\n",
       "    <tr>\n",
       "      <th>1</th>\n",
       "      <td>1.0</td>\n",
       "      <td>1.0</td>\n",
       "      <td>1.0</td>\n",
       "      <td>classify_binary_variant_0_20250826_122641_228398</td>\n",
       "      <td>2025-08-26T12:26:42.219660+02:00</td>\n",
       "      <td>None</td>\n",
       "      <td>classification</td>\n",
       "      <td>binary</td>\n",
       "      <td>X</td>\n",
       "    </tr>\n",
       "    <tr>\n",
       "      <th>2</th>\n",
       "      <td>1.0</td>\n",
       "      <td>1.0</td>\n",
       "      <td>1.0</td>\n",
       "      <td>classify_binary_variant_0_20250826_122813_542772</td>\n",
       "      <td>2025-08-26T12:28:14.567724+02:00</td>\n",
       "      <td>Binary classification of relevance to climate ...</td>\n",
       "      <td>classification</td>\n",
       "      <td>binary</td>\n",
       "      <td>X</td>\n",
       "    </tr>\n",
       "    <tr>\n",
       "      <th>3</th>\n",
       "      <td>1.0</td>\n",
       "      <td>1.0</td>\n",
       "      <td>1.0</td>\n",
       "      <td>classify_binary_variant_0_20250826_124347_857233</td>\n",
       "      <td>2025-08-26T12:43:49.409873+02:00</td>\n",
       "      <td>Binary classification of relevance to climate ...</td>\n",
       "      <td>classification</td>\n",
       "      <td>binary</td>\n",
       "      <td>X</td>\n",
       "    </tr>\n",
       "  </tbody>\n",
       "</table>\n",
       "</div>"
      ],
      "text/plain": [
       "   f1_score  precision_score  recall_score  \\\n",
       "0       1.0              1.0           1.0   \n",
       "1       1.0              1.0           1.0   \n",
       "2       1.0              1.0           1.0   \n",
       "3       1.0              1.0           1.0   \n",
       "\n",
       "                                       display_name  \\\n",
       "0  classify_binary_variant_0_20250826_122620_824384   \n",
       "1  classify_binary_variant_0_20250826_122641_228398   \n",
       "2  classify_binary_variant_0_20250826_122813_542772   \n",
       "3  classify_binary_variant_0_20250826_124347_857233   \n",
       "\n",
       "                         start_time  \\\n",
       "0  2025-08-26T12:26:21.817715+02:00   \n",
       "1  2025-08-26T12:26:42.219660+02:00   \n",
       "2  2025-08-26T12:28:14.567724+02:00   \n",
       "3  2025-08-26T12:43:49.409873+02:00   \n",
       "\n",
       "                                         description            task  labels  \\\n",
       "0                                               None  classification  binary   \n",
       "1                                               None  classification  binary   \n",
       "2  Binary classification of relevance to climate ...  classification  binary   \n",
       "3  Binary classification of relevance to climate ...  classification  binary   \n",
       "\n",
       "  dataset  \n",
       "0     NaN  \n",
       "1       X  \n",
       "2       X  \n",
       "3       X  "
      ]
     },
     "execution_count": 46,
     "metadata": {},
     "output_type": "execute_result"
    }
   ],
   "source": [
    "cur = con.cursor()\n",
    "stmt = '''\n",
    "SELECT * FROM run_info WHERE json_extract (tags, '$.task') = :task\n",
    "'''\n",
    "res = cur.execute(stmt, tag_filters).fetchall()\n",
    "\n",
    "metric_list = []\n",
    "for r in res:\n",
    "    flow_path = Path(json.loads(r['properties'])['output_path'])\n",
    "    mpath = flow_path / 'metrics.json'\n",
    "    if mpath.exists():\n",
    "        with open(flow_path / 'metrics.json') as fp:\n",
    "            metrics = json.load(fp)\n",
    "            metric_list.append(metrics)\n",
    "    else:\n",
    "        metrics = {}\n",
    "    metrics['display_name'] = r['display_name']\n",
    "    metrics['start_time'] = r['start_time']\n",
    "    metrics['description'] = r['description']\n",
    "    for k,v in json.loads(r['tags']).items():\n",
    "        metrics[k] = v\n",
    "    #metrics['tags'] = json.loads(r['tags'])\n",
    "            \n",
    "df = pd.DataFrame.from_dict(metric_list).dropna(subset='f1_score')\n",
    "df\n"
   ]
  },
  {
   "cell_type": "markdown",
   "id": "d404845c",
   "metadata": {},
   "source": []
  },
  {
   "cell_type": "code",
   "execution_count": null,
   "id": "677a4086",
   "metadata": {},
   "outputs": [],
   "source": []
  }
 ],
 "metadata": {
  "kernelspec": {
   "display_name": "evaluation-framework (3.12.3)",
   "language": "python",
   "name": "python3"
  },
  "language_info": {
   "codemirror_mode": {
    "name": "ipython",
    "version": 3
   },
   "file_extension": ".py",
   "mimetype": "text/x-python",
   "name": "python",
   "nbconvert_exporter": "python",
   "pygments_lexer": "ipython3",
   "version": "3.12.3"
  }
 },
 "nbformat": 4,
 "nbformat_minor": 5
}
